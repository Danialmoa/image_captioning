{
 "cells": [
  {
   "cell_type": "code",
   "execution_count": 60,
   "metadata": {},
   "outputs": [],
   "source": [
    "import pandas as pd\n",
    "import numpy as np\n",
    "import matplotlib.pyplot as plt\n",
    "import torch.nn.functional as F\n",
    "\n",
    "import torch\n",
    "from PIL import Image\n",
    "from torch.utils.data import DataLoader\n",
    "from torchvision import transforms\n",
    "import pandas as pd\n",
    "from tqdm import tqdm\n",
    "\n",
    "from utils.config import Config\n",
    "from models.base import ImageCaptioningModel\n",
    "from models.attention_model import ImageCaptioningWithAttention\n",
    "from data.data_set import DataSet\n",
    "from text.tokenizer import Tokenizer\n",
    "from pathlib import Path\n"
   ]
  },
  {
   "cell_type": "code",
   "execution_count": 90,
   "metadata": {},
   "outputs": [],
   "source": [
    "RUN_ID = 14"
   ]
  },
  {
   "cell_type": "code",
   "execution_count": null,
   "metadata": {},
   "outputs": [],
   "source": [
    "# laod the prediction results\n",
    "path_run = f\"../models/checkpoints/run_{RUN_ID}\"\n",
    "predictions = pd.read_csv(f\"{path_run}/results.csv\")\n",
    "predictions.sort_values(by=\"BLEU Score\", ascending=False, inplace=True)\n",
    "\n",
    "# select best prediction for each image\n",
    "best_predictions = predictions.loc[predictions.groupby('Image Name')['BLEU Score'].idxmax()]\n",
    "best_predictions.sort_values(by=\"BLEU Score\", ascending=False, inplace=True)\n",
    "\n",
    "\n",
    "MODEL_PATH = Path(f\"../models/checkpoints/run_{RUN_ID}\")\n",
    "\n",
    "config = Config(experiment_id=RUN_ID)\n",
    "device = \"cuda\" if torch.cuda.is_available() else \"mps\" if torch.backends.mps.is_available() else \"cpu\"\n",
    "\n",
    "model = ImageCaptioningWithAttention(config.embed_size, config.attention_dim, config.decoder_dim, config.vocab_size, config.encoder_dim).to(device)\n",
    "model.load_state_dict(torch.load(f\"{MODEL_PATH}/best_model.pth\", map_location=device, weights_only=True))\n"
   ]
  },
  {
   "cell_type": "code",
   "execution_count": 85,
   "metadata": {},
   "outputs": [],
   "source": [
    "# show image with true caption and predicted caption \n",
    "def show_image(image_name):\n",
    "    path = \"../data/raw/images/\"\n",
    "    true_caption = best_predictions.loc[best_predictions['Image Name'] == image_name, 'True Caption'].values[0]\n",
    "    predicted_caption = best_predictions.loc[best_predictions['Image Name'] == image_name, 'Predicted Caption'].values[0]\n",
    "    bleu_score = best_predictions.loc[best_predictions['Image Name'] == image_name, 'BLEU Score'].values[0]\n",
    "    plt.figure(figsize=(10, 8))\n",
    "    plt.imshow(Image.open(f\"{path}/{image_name}\"))\n",
    "    plt.title(f\"True Caption: {true_caption.replace('  ', '')}\\nPredicted Caption: {predicted_caption.strip()}\\nBLEU Score: {bleu_score}\",fontsize=12, pad=10, wrap=True)\n",
    "    plt.axis('off')\n",
    "    plt.show()\n",
    "    \n",
    "def visualize_features_overlay(image_name, model, alpha=0.4):\n",
    "    \"\"\"\n",
    "    Visualize mean feature activation overlaid on the original image\n",
    "    \"\"\"\n",
    "    path = \"../data/raw/images/\"\n",
    "    image = Image.open(f\"{path}/{image_name}\").convert(\"RGB\")\n",
    "    with torch.no_grad():\n",
    "        transform = transforms.Compose([\n",
    "            transforms.Resize((256, 256)),\n",
    "            transforms.ToTensor(),\n",
    "            transforms.Normalize(\n",
    "                mean=[0.485, 0.456, 0.406], \n",
    "                std=[0.229, 0.224, 0.225])\n",
    "        ])\n",
    "        image = transform(image)\n",
    "        features = model.encoder(image.unsqueeze(0).to(device))\n",
    "\n",
    "        mean_features = features.mean(dim=1).squeeze().cpu()\n",
    "        mean_features = (mean_features - mean_features.min()) / (mean_features.max() - mean_features.min())\n",
    "\n",
    "        plt.figure(figsize=(10, 8))\n",
    "\n",
    "        img_np = image.permute(1, 2, 0).cpu().numpy()\n",
    "        img_np = (img_np - img_np.min()) / (img_np.max() - img_np.min())  # Normalize to [0,1]\n",
    "        plt.imshow(img_np)\n",
    "        \n",
    "        mean_features_resized = F.interpolate(\n",
    "            mean_features.unsqueeze(0).unsqueeze(0), \n",
    "            size=img_np.shape[:2], \n",
    "            mode='bilinear', \n",
    "            align_corners=False\n",
    "        ).squeeze().numpy()\n",
    "        \n",
    "        plt.imshow(mean_features_resized, cmap='hot', alpha=alpha)\n",
    "        plt.axis('off')\n",
    "        plt.show()\n",
    "            "
   ]
  },
  {
   "cell_type": "code",
   "execution_count": null,
   "metadata": {},
   "outputs": [],
   "source": [
    "best_predictions.head()"
   ]
  },
  {
   "cell_type": "code",
   "execution_count": null,
   "metadata": {},
   "outputs": [],
   "source": [
    "index = 3\n",
    "image_name = best_predictions['Image Name'].iloc[index] #3356369156_074750c6cc.jpg , 2699733386_c346c87ea6.jpg\n",
    "\n",
    "print(image_name)\n",
    "show_image(image_name)\n",
    "visualize_features_overlay(image_name, model)\n"
   ]
  },
  {
   "cell_type": "code",
   "execution_count": null,
   "metadata": {},
   "outputs": [],
   "source": [
    "# show the results for the best prediction\n",
    "# After cleaning and grouping by image name, the best prediction is the one with the highest BLEU score\n",
    "best_predictions.describe()\n",
    "\n",
    "\n",
    "print('Best 5 predictions:')\n",
    "for i in range(5):\n",
    "    print('True Caption: ', best_predictions['True Caption'].iloc[i])\n",
    "    print('Predicted Caption: ', best_predictions['Predicted Caption'].iloc[i])\n",
    "    print('BLEU Score: ', best_predictions['BLEU Score'].iloc[i])\n",
    "    print('-'*100)\n",
    "    \n",
    "print('Worst 5 predictions:')\n",
    "for i in range(5):\n",
    "    print('True Caption: ', best_predictions['True Caption'].iloc[-i])\n",
    "    print('Predicted Caption: ', best_predictions['Predicted Caption'].iloc[-i])\n",
    "    print('BLEU Score: ', best_predictions['BLEU Score'].iloc[-i])\n",
    "    print('-'*100)\n"
   ]
  },
  {
   "cell_type": "code",
   "execution_count": null,
   "metadata": {},
   "outputs": [],
   "source": [
    "# show the histogram of the bleu score \n",
    "plt.figure(figsize=(10, 8))\n",
    "plt.title('BLEU Score Distribution')\n",
    "plt.xlabel('BLEU Score')\n",
    "plt.ylabel('Frequency')\n",
    "plt.hist(best_predictions['BLEU Score'], bins=10)\n",
    "plt.show()"
   ]
  },
  {
   "cell_type": "code",
   "execution_count": null,
   "metadata": {},
   "outputs": [],
   "source": []
  },
  {
   "cell_type": "code",
   "execution_count": null,
   "metadata": {},
   "outputs": [],
   "source": []
  }
 ],
 "metadata": {
  "kernelspec": {
   "display_name": ".venv",
   "language": "python",
   "name": "python3"
  },
  "language_info": {
   "codemirror_mode": {
    "name": "ipython",
    "version": 3
   },
   "file_extension": ".py",
   "mimetype": "text/x-python",
   "name": "python",
   "nbconvert_exporter": "python",
   "pygments_lexer": "ipython3",
   "version": "3.10.16"
  }
 },
 "nbformat": 4,
 "nbformat_minor": 2
}
