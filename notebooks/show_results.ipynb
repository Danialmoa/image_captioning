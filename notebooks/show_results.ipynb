{
 "cells": [
  {
   "cell_type": "code",
   "execution_count": 20,
   "metadata": {},
   "outputs": [],
   "source": [
    "import pandas as pd\n",
    "from PIL import Image\n",
    "import numpy as np\n",
    "import torch"
   ]
  },
  {
   "cell_type": "code",
   "execution_count": 7,
   "metadata": {},
   "outputs": [],
   "source": [
    "# laod the prediction results\n",
    "path_run = \"../models/checkpoints/new_runs/run_11\"\n",
    "predictions = pd.read_csv(f\"{path_run}/predictions.csv\")\n"
   ]
  },
  {
   "cell_type": "code",
   "execution_count": 13,
   "metadata": {},
   "outputs": [
    {
     "data": {
      "text/html": [
       "<div>\n",
       "<style scoped>\n",
       "    .dataframe tbody tr th:only-of-type {\n",
       "        vertical-align: middle;\n",
       "    }\n",
       "\n",
       "    .dataframe tbody tr th {\n",
       "        vertical-align: top;\n",
       "    }\n",
       "\n",
       "    .dataframe thead th {\n",
       "        text-align: right;\n",
       "    }\n",
       "</style>\n",
       "<table border=\"1\" class=\"dataframe\">\n",
       "  <thead>\n",
       "    <tr style=\"text-align: right;\">\n",
       "      <th></th>\n",
       "      <th>True Caption</th>\n",
       "      <th>Predicted Caption</th>\n",
       "      <th>Image Path</th>\n",
       "    </tr>\n",
       "  </thead>\n",
       "  <tbody>\n",
       "    <tr>\n",
       "      <th>0</th>\n",
       "      <td>&lt;start&gt; two nude women painted black and white...</td>\n",
       "      <td>&lt;start&gt; a man woman in a hat and man and onto ...</td>\n",
       "      <td>tensor([[[ 1.6838,  1.7865,  1.7352,  ..., -0....</td>\n",
       "    </tr>\n",
       "    <tr>\n",
       "      <th>1</th>\n",
       "      <td>&lt;start&gt; a man is wearing protective hair and f...</td>\n",
       "      <td>&lt;start&gt; a man wearing a street is in front of ...</td>\n",
       "      <td>tensor([[[-1.4843, -1.5185, -1.5014,  ..., -1....</td>\n",
       "    </tr>\n",
       "    <tr>\n",
       "      <th>2</th>\n",
       "      <td>&lt;start&gt; man performing a trick on a bicycle ou...</td>\n",
       "      <td>&lt;start&gt; a couple tshirt face a against chest o...</td>\n",
       "      <td>tensor([[[-0.8335, -0.5596, -0.5424,  ..., -1....</td>\n",
       "    </tr>\n",
       "    <tr>\n",
       "      <th>3</th>\n",
       "      <td>&lt;start&gt; a skateboarder is doing a stunt &lt;end&gt; ...</td>\n",
       "      <td>&lt;start&gt; a basketball man playing off from a ou...</td>\n",
       "      <td>tensor([[[ 1.6324,  1.6153,  1.5982,  ...,  1....</td>\n",
       "    </tr>\n",
       "    <tr>\n",
       "      <th>4</th>\n",
       "      <td>&lt;start&gt; three kids laugh a girl in the middle ...</td>\n",
       "      <td>&lt;start&gt; girl players is sitting wearing a man ...</td>\n",
       "      <td>tensor([[[1.9749, 1.9749, 1.9920,  ..., 2.1633...</td>\n",
       "    </tr>\n",
       "  </tbody>\n",
       "</table>\n",
       "</div>"
      ],
      "text/plain": [
       "                                        True Caption  \\\n",
       "0  <start> two nude women painted black and white...   \n",
       "1  <start> a man is wearing protective hair and f...   \n",
       "2  <start> man performing a trick on a bicycle ou...   \n",
       "3  <start> a skateboarder is doing a stunt <end> ...   \n",
       "4  <start> three kids laugh a girl in the middle ...   \n",
       "\n",
       "                                   Predicted Caption  \\\n",
       "0  <start> a man woman in a hat and man and onto ...   \n",
       "1  <start> a man wearing a street is in front of ...   \n",
       "2  <start> a couple tshirt face a against chest o...   \n",
       "3  <start> a basketball man playing off from a ou...   \n",
       "4  <start> girl players is sitting wearing a man ...   \n",
       "\n",
       "                                          Image Path  \n",
       "0  tensor([[[ 1.6838,  1.7865,  1.7352,  ..., -0....  \n",
       "1  tensor([[[-1.4843, -1.5185, -1.5014,  ..., -1....  \n",
       "2  tensor([[[-0.8335, -0.5596, -0.5424,  ..., -1....  \n",
       "3  tensor([[[ 1.6324,  1.6153,  1.5982,  ...,  1....  \n",
       "4  tensor([[[1.9749, 1.9749, 1.9920,  ..., 2.1633...  "
      ]
     },
     "execution_count": 13,
     "metadata": {},
     "output_type": "execute_result"
    }
   ],
   "source": [
    "predictions.head()"
   ]
  },
  {
   "cell_type": "code",
   "execution_count": 22,
   "metadata": {},
   "outputs": [
    {
     "ename": "TypeError",
     "evalue": "only integer tensors of a single element can be converted to an index",
     "output_type": "error",
     "traceback": [
      "\u001b[0;31m---------------------------------------------------------------------------\u001b[0m",
      "\u001b[0;31mTypeError\u001b[0m                                 Traceback (most recent call last)",
      "Cell \u001b[0;32mIn[22], line 20\u001b[0m\n\u001b[1;32m     17\u001b[0m     \u001b[38;5;28;01mreturn\u001b[39;00m image\n\u001b[1;32m     19\u001b[0m image_tensor \u001b[38;5;241m=\u001b[39m predictions[\u001b[38;5;124m'\u001b[39m\u001b[38;5;124mImage Path\u001b[39m\u001b[38;5;124m'\u001b[39m]\u001b[38;5;241m.\u001b[39miloc[\u001b[38;5;241m0\u001b[39m]\n\u001b[0;32m---> 20\u001b[0m \u001b[38;5;28mprint\u001b[39m(\u001b[43mtensor_image_to_PIL\u001b[49m\u001b[43m(\u001b[49m\u001b[43mimage_tensor\u001b[49m\u001b[43m)\u001b[49m)\n\u001b[1;32m     22\u001b[0m \u001b[38;5;66;03m# image = Image.open(image_tensor)\u001b[39;00m\n\u001b[1;32m     23\u001b[0m \u001b[38;5;66;03m# image.show()\u001b[39;00m\n",
      "Cell \u001b[0;32mIn[22], line 5\u001b[0m, in \u001b[0;36mtensor_image_to_PIL\u001b[0;34m(image_tensor)\u001b[0m\n\u001b[1;32m      3\u001b[0m mean \u001b[38;5;241m=\u001b[39m torch\u001b[38;5;241m.\u001b[39mtensor([\u001b[38;5;241m0.485\u001b[39m, \u001b[38;5;241m0.456\u001b[39m, \u001b[38;5;241m0.406\u001b[39m])\u001b[38;5;241m.\u001b[39mview(\u001b[38;5;241m3\u001b[39m, \u001b[38;5;241m1\u001b[39m, \u001b[38;5;241m1\u001b[39m)\n\u001b[1;32m      4\u001b[0m std \u001b[38;5;241m=\u001b[39m torch\u001b[38;5;241m.\u001b[39mtensor([\u001b[38;5;241m0.229\u001b[39m, \u001b[38;5;241m0.224\u001b[39m, \u001b[38;5;241m0.225\u001b[39m])\u001b[38;5;241m.\u001b[39mview(\u001b[38;5;241m3\u001b[39m, \u001b[38;5;241m1\u001b[39m, \u001b[38;5;241m1\u001b[39m)\n\u001b[0;32m----> 5\u001b[0m image_tensor \u001b[38;5;241m=\u001b[39m \u001b[43mimage_tensor\u001b[49m\u001b[43m \u001b[49m\u001b[38;5;241;43m*\u001b[39;49m\u001b[43m \u001b[49m\u001b[43mstd\u001b[49m \u001b[38;5;241m+\u001b[39m mean\n\u001b[1;32m      6\u001b[0m \u001b[38;5;28mprint\u001b[39m(image_tensor)\n\u001b[1;32m      7\u001b[0m image_tensor \u001b[38;5;241m=\u001b[39m torch\u001b[38;5;241m.\u001b[39mclamp(image_tensor, \u001b[38;5;241m0\u001b[39m, \u001b[38;5;241m1\u001b[39m)\n",
      "\u001b[0;31mTypeError\u001b[0m: only integer tensors of a single element can be converted to an index"
     ]
    }
   ],
   "source": [
    "# show image\n",
    "def tensor_image_to_PIL(image_tensor):\n",
    "    mean = torch.tensor([0.485, 0.456, 0.406]).view(3, 1, 1)\n",
    "    std = torch.tensor([0.229, 0.224, 0.225]).view(3, 1, 1)\n",
    "    image_tensor = image_tensor * std + mean\n",
    "    print(image_tensor)\n",
    "    image_tensor = torch.clamp(image_tensor, 0, 1)\n",
    "    \n",
    "    array = image_tensor.numpy()\n",
    "    # Convert from (C, H, W) to (H, W, C)\n",
    "    array = np.transpose(array, (1, 2, 0))\n",
    "    # Scale to 0-255\n",
    "    array = (array * 255).astype(np.uint8)\n",
    "    \n",
    "    # Create PIL Image\n",
    "    image = Image.fromarray(array)\n",
    "    return image\n",
    "\n",
    "image_tensor = predictions['Image Path'].iloc[0]\n",
    "print(tensor_image_to_PIL(image_tensor))\n",
    "\n",
    "# image = Image.open(image_tensor)\n",
    "# image.show()\n",
    "\n",
    "\n",
    "\n"
   ]
  },
  {
   "cell_type": "code",
   "execution_count": null,
   "metadata": {},
   "outputs": [],
   "source": []
  }
 ],
 "metadata": {
  "kernelspec": {
   "display_name": ".venv",
   "language": "python",
   "name": "python3"
  },
  "language_info": {
   "codemirror_mode": {
    "name": "ipython",
    "version": 3
   },
   "file_extension": ".py",
   "mimetype": "text/x-python",
   "name": "python",
   "nbconvert_exporter": "python",
   "pygments_lexer": "ipython3",
   "version": "3.10.16"
  }
 },
 "nbformat": 4,
 "nbformat_minor": 2
}
